{
 "cells": [
  {
   "cell_type": "code",
   "execution_count": 11,
   "id": "139f3680-10e4-49f0-819c-37e064dbaf7e",
   "metadata": {},
   "outputs": [],
   "source": [
    "import pandas as pd\n"
   ]
  },
  {
   "cell_type": "code",
   "execution_count": 13,
   "id": "36b0d0c9-490f-4434-82f3-e4f4836c0497",
   "metadata": {},
   "outputs": [],
   "source": [
    "df.to_csv(\"cleaned_marketing_campaign.csv\", index=False)"
   ]
  },
  {
   "cell_type": "code",
   "execution_count": 15,
   "id": "610c64d7-3a7c-4e92-a68a-d91997752879",
   "metadata": {},
   "outputs": [],
   "source": [
    "df = pd.read_csv(\"marketing_campaign.csv\", sep=\"\\t\")"
   ]
  },
  {
   "cell_type": "code",
   "execution_count": 5,
   "id": "59e72d4f-ed9d-40c8-b248-5a12420b2fc6",
   "metadata": {},
   "outputs": [
    {
     "name": "stdout",
     "output_type": "stream",
     "text": [
      "Initial Data Shape: (2240, 29)\n",
      "Missing Values:\n",
      " ID                      0\n",
      "Year_Birth              0\n",
      "Education               0\n",
      "Marital_Status          0\n",
      "Income                 24\n",
      "Kidhome                 0\n",
      "Teenhome                0\n",
      "Dt_Customer             0\n",
      "Recency                 0\n",
      "MntWines                0\n",
      "MntFruits               0\n",
      "MntMeatProducts         0\n",
      "MntFishProducts         0\n",
      "MntSweetProducts        0\n",
      "MntGoldProds            0\n",
      "NumDealsPurchases       0\n",
      "NumWebPurchases         0\n",
      "NumCatalogPurchases     0\n",
      "NumStorePurchases       0\n",
      "NumWebVisitsMonth       0\n",
      "AcceptedCmp3            0\n",
      "AcceptedCmp4            0\n",
      "AcceptedCmp5            0\n",
      "AcceptedCmp1            0\n",
      "AcceptedCmp2            0\n",
      "Complain                0\n",
      "Z_CostContact           0\n",
      "Z_Revenue               0\n",
      "Response                0\n",
      "dtype: int64\n"
     ]
    }
   ],
   "source": [
    "print(\"Initial Data Shape:\", df.shape)\n",
    "print(\"Missing Values:\\n\", df.isnull().sum())\n"
   ]
  },
  {
   "cell_type": "code",
   "execution_count": 17,
   "id": "cbebeb88-c66e-4385-9ab3-23d10008f6d8",
   "metadata": {},
   "outputs": [],
   "source": [
    "df = df.drop_duplicates()\n"
   ]
  },
  {
   "cell_type": "code",
   "execution_count": 19,
   "id": "2e1700d4-5ec9-4b30-9a64-4a48d0b8ce27",
   "metadata": {},
   "outputs": [],
   "source": [
    "df = df.dropna()  # Alternatively, use fillna() if you want to impute values\n"
   ]
  },
  {
   "cell_type": "code",
   "execution_count": 21,
   "id": "add0f5ac-daef-49fb-add3-f7591e580508",
   "metadata": {},
   "outputs": [],
   "source": [
    "df.columns = df.columns.str.strip().str.lower().str.replace(\" \", \"_\")\n"
   ]
  },
  {
   "cell_type": "code",
   "execution_count": 23,
   "id": "59c132da-ee8c-47b2-8afa-0233cd71e650",
   "metadata": {},
   "outputs": [],
   "source": [
    "df['dt_customer'] = pd.to_datetime(df['dt_customer'], format=\"%d-%m-%Y\", errors='coerce')\n"
   ]
  },
  {
   "cell_type": "code",
   "execution_count": 25,
   "id": "86c68724-818b-4f4e-9168-de023ae768d6",
   "metadata": {},
   "outputs": [],
   "source": [
    "df['education'] = df['education'].str.strip().str.lower()\n",
    "df['marital_status'] = df['marital_status'].str.strip().str.lower()\n"
   ]
  },
  {
   "cell_type": "code",
   "execution_count": 27,
   "id": "1db8f38f-8587-431a-b9a2-67cf5548d6d2",
   "metadata": {},
   "outputs": [],
   "source": [
    "df['income'] = df['income'].astype(float)\n",
    "df['kidhome'] = df['kidhome'].astype(int)\n",
    "df['teenhome'] = df['teenhome'].astype(int)\n"
   ]
  },
  {
   "cell_type": "code",
   "execution_count": 29,
   "id": "204f9ae9-7181-41c5-9536-8a0465e4e435",
   "metadata": {},
   "outputs": [
    {
     "name": "stdout",
     "output_type": "stream",
     "text": [
      "Data Shape after Cleaning: (2216, 29)\n",
      "Remaining Missing Values:\n",
      " id                     0\n",
      "year_birth             0\n",
      "education              0\n",
      "marital_status         0\n",
      "income                 0\n",
      "kidhome                0\n",
      "teenhome               0\n",
      "dt_customer            0\n",
      "recency                0\n",
      "mntwines               0\n",
      "mntfruits              0\n",
      "mntmeatproducts        0\n",
      "mntfishproducts        0\n",
      "mntsweetproducts       0\n",
      "mntgoldprods           0\n",
      "numdealspurchases      0\n",
      "numwebpurchases        0\n",
      "numcatalogpurchases    0\n",
      "numstorepurchases      0\n",
      "numwebvisitsmonth      0\n",
      "acceptedcmp3           0\n",
      "acceptedcmp4           0\n",
      "acceptedcmp5           0\n",
      "acceptedcmp1           0\n",
      "acceptedcmp2           0\n",
      "complain               0\n",
      "z_costcontact          0\n",
      "z_revenue              0\n",
      "response               0\n",
      "dtype: int64\n"
     ]
    }
   ],
   "source": [
    "print(\"Data Shape after Cleaning:\", df.shape)\n",
    "print(\"Remaining Missing Values:\\n\", df.isnull().sum())\n"
   ]
  },
  {
   "cell_type": "code",
   "execution_count": 31,
   "id": "5b150d62-97ae-4f5d-ab27-1a932c9ae64f",
   "metadata": {},
   "outputs": [
    {
     "name": "stdout",
     "output_type": "stream",
     "text": [
      "\n",
      "Summary of Changes:\n",
      "- Removed rows with missing values: True\n",
      "- Removed duplicate rows: True\n",
      "- Standardized column names: True\n",
      "- Converted 'dt_customer' to datetime: True\n",
      "- Standardized text values in 'education' and 'marital_status': True\n",
      "- Converted data types for numerical columns: True\n"
     ]
    }
   ],
   "source": [
    "summary = {\n",
    "    \"Removed rows with missing values\": True,\n",
    "    \"Removed duplicate rows\": True,\n",
    "    \"Standardized column names\": True,\n",
    "    \"Converted 'dt_customer' to datetime\": True,\n",
    "    \"Standardized text values in 'education' and 'marital_status'\": True,\n",
    "    \"Converted data types for numerical columns\": True\n",
    "}\n",
    "print(\"\\nSummary of Changes:\")\n",
    "for k, v in summary.items():\n",
    "    print(f\"- {k}: {v}\")"
   ]
  },
  {
   "cell_type": "code",
   "execution_count": 35,
   "id": "9a66f3f5-9495-40bf-93e7-199443d657ad",
   "metadata": {},
   "outputs": [
    {
     "name": "stdout",
     "output_type": "stream",
     "text": [
      "<class 'pandas.core.frame.DataFrame'>\n",
      "Index: 2216 entries, 0 to 2239\n",
      "Data columns (total 29 columns):\n",
      " #   Column               Non-Null Count  Dtype         \n",
      "---  ------               --------------  -----         \n",
      " 0   id                   2216 non-null   int64         \n",
      " 1   year_birth           2216 non-null   int64         \n",
      " 2   education            2216 non-null   object        \n",
      " 3   marital_status       2216 non-null   object        \n",
      " 4   income               2216 non-null   float64       \n",
      " 5   kidhome              2216 non-null   int32         \n",
      " 6   teenhome             2216 non-null   int32         \n",
      " 7   dt_customer          2216 non-null   datetime64[ns]\n",
      " 8   recency              2216 non-null   int64         \n",
      " 9   mntwines             2216 non-null   int64         \n",
      " 10  mntfruits            2216 non-null   int64         \n",
      " 11  mntmeatproducts      2216 non-null   int64         \n",
      " 12  mntfishproducts      2216 non-null   int64         \n",
      " 13  mntsweetproducts     2216 non-null   int64         \n",
      " 14  mntgoldprods         2216 non-null   int64         \n",
      " 15  numdealspurchases    2216 non-null   int64         \n",
      " 16  numwebpurchases      2216 non-null   int64         \n",
      " 17  numcatalogpurchases  2216 non-null   int64         \n",
      " 18  numstorepurchases    2216 non-null   int64         \n",
      " 19  numwebvisitsmonth    2216 non-null   int64         \n",
      " 20  acceptedcmp3         2216 non-null   int64         \n",
      " 21  acceptedcmp4         2216 non-null   int64         \n",
      " 22  acceptedcmp5         2216 non-null   int64         \n",
      " 23  acceptedcmp1         2216 non-null   int64         \n",
      " 24  acceptedcmp2         2216 non-null   int64         \n",
      " 25  complain             2216 non-null   int64         \n",
      " 26  z_costcontact        2216 non-null   int64         \n",
      " 27  z_revenue            2216 non-null   int64         \n",
      " 28  response             2216 non-null   int64         \n",
      "dtypes: datetime64[ns](1), float64(1), int32(2), int64(23), object(2)\n",
      "memory usage: 502.1+ KB\n"
     ]
    }
   ],
   "source": [
    "df.info()"
   ]
  },
  {
   "cell_type": "code",
   "execution_count": null,
   "id": "b5a5d92e-0ce9-41cb-afb9-169f30f69d82",
   "metadata": {},
   "outputs": [],
   "source": []
  },
  {
   "cell_type": "code",
   "execution_count": null,
   "id": "ecb8930d-edde-472e-b51f-ad3df693905d",
   "metadata": {},
   "outputs": [],
   "source": []
  },
  {
   "cell_type": "code",
   "execution_count": null,
   "id": "ac0cc9a4-0fe5-414b-9574-b836c6d49935",
   "metadata": {},
   "outputs": [],
   "source": []
  },
  {
   "cell_type": "code",
   "execution_count": null,
   "id": "0edc6422-e38d-483d-a429-ff28433e65e3",
   "metadata": {},
   "outputs": [],
   "source": []
  },
  {
   "cell_type": "code",
   "execution_count": null,
   "id": "996c24f3-4656-4598-b8a1-ffc2fdd76a81",
   "metadata": {},
   "outputs": [],
   "source": []
  },
  {
   "cell_type": "code",
   "execution_count": null,
   "id": "4bd1356b-d41a-4e74-a33f-2ddeb2b1a2eb",
   "metadata": {},
   "outputs": [],
   "source": []
  },
  {
   "cell_type": "code",
   "execution_count": null,
   "id": "88c2a656-1891-4f36-93d3-284f9f8d0283",
   "metadata": {},
   "outputs": [],
   "source": []
  },
  {
   "cell_type": "code",
   "execution_count": null,
   "id": "9693d34e-0b49-40c1-ae61-56a5b39a6243",
   "metadata": {},
   "outputs": [],
   "source": []
  },
  {
   "cell_type": "code",
   "execution_count": null,
   "id": "7707840a-2ad4-4ac0-96b1-b16d0ea3d2c0",
   "metadata": {},
   "outputs": [],
   "source": []
  },
  {
   "cell_type": "code",
   "execution_count": null,
   "id": "a6c851c7-d09f-4b32-99d9-451ea7c1e1bc",
   "metadata": {},
   "outputs": [],
   "source": []
  },
  {
   "cell_type": "code",
   "execution_count": null,
   "id": "6cbafe20-17bd-45b0-b67a-c3f41cbdf7cc",
   "metadata": {},
   "outputs": [],
   "source": []
  },
  {
   "cell_type": "code",
   "execution_count": null,
   "id": "3475284c-c994-4afe-a46d-de01a5fdc7f3",
   "metadata": {},
   "outputs": [],
   "source": []
  },
  {
   "cell_type": "code",
   "execution_count": null,
   "id": "8083d5a5-1a78-43f2-8aad-1cdb1c59c656",
   "metadata": {},
   "outputs": [],
   "source": []
  },
  {
   "cell_type": "code",
   "execution_count": null,
   "id": "00fb7fa4-111a-401c-9f42-ee4a7516f74d",
   "metadata": {},
   "outputs": [],
   "source": []
  },
  {
   "cell_type": "code",
   "execution_count": null,
   "id": "6b1b3529-3f70-45e9-99ad-b7d51b5dd148",
   "metadata": {},
   "outputs": [],
   "source": []
  },
  {
   "cell_type": "code",
   "execution_count": null,
   "id": "8e85f913-95cc-45e0-a78a-e73c3ebc5a77",
   "metadata": {},
   "outputs": [],
   "source": []
  },
  {
   "cell_type": "code",
   "execution_count": null,
   "id": "caeb5957-44fb-406b-83a2-342253c0a464",
   "metadata": {},
   "outputs": [],
   "source": []
  }
 ],
 "metadata": {
  "kernelspec": {
   "display_name": "Python 3 (ipykernel)",
   "language": "python",
   "name": "python3"
  },
  "language_info": {
   "codemirror_mode": {
    "name": "ipython",
    "version": 3
   },
   "file_extension": ".py",
   "mimetype": "text/x-python",
   "name": "python",
   "nbconvert_exporter": "python",
   "pygments_lexer": "ipython3",
   "version": "3.12.7"
  }
 },
 "nbformat": 4,
 "nbformat_minor": 5
}
